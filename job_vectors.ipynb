{
 "cells": [
  {
   "cell_type": "code",
   "execution_count": 1,
   "metadata": {},
   "outputs": [
    {
     "name": "stderr",
     "output_type": "stream",
     "text": [
      "[nltk_data] Downloading package stopwords to /Users/alex/nltk_data...\n",
      "[nltk_data]   Package stopwords is already up-to-date!\n",
      "[nltk_data] Downloading package wordnet to /Users/alex/nltk_data...\n",
      "[nltk_data]   Package wordnet is already up-to-date!\n",
      "[nltk_data] Downloading package punkt to /Users/alex/nltk_data...\n",
      "[nltk_data]   Package punkt is already up-to-date!\n"
     ]
    }
   ],
   "source": [
    "import pandas as pd\n",
    "import numpy as np\n",
    "import nltk\n",
    "import re\n",
    "nltk.download('stopwords')\n",
    "nltk.download('wordnet')\n",
    "nltk.download('punkt')\n",
    "from nltk.corpus import stopwords\n",
    "from nltk.stem import WordNetLemmatizer\n",
    "from nltk.tokenize import word_tokenize\n",
    "from sklearn.feature_extraction.text import TfidfVectorizer\n",
    "from sklearn.metrics.pairwise import cosine_similarity\n",
    "import joblib\n",
    "import gensim.downloader as api\n"
   ]
  },
  {
   "cell_type": "code",
   "execution_count": 2,
   "metadata": {},
   "outputs": [
    {
     "name": "stdout",
     "output_type": "stream",
     "text": [
      "Dataset size after removing non-english jobs:  (2877, 7)\n",
      "Dataset columns:  Index(['job_id', 'company_name', 'job_title', 'job_location',\n",
      "       'job_description_text', 'language', 'job_url'],\n",
      "      dtype='object')\n",
      "Dataset size after removing duplicates:  (2626, 5)\n",
      "Dataset size after removing short job descriptions:  (2622, 5)\n"
     ]
    }
   ],
   "source": [
    "dataset = pd.read_csv('data/jobs_energy.csv', delimiter=';', names=['job_id', 'company_name', 'job_title', 'job_location', 'job_description_text', 'language', 'job_url'], dtype={'job_id':int})\n",
    "\n",
    "# Some job descriptions are in languages other than englisg, we will remove them\n",
    "dataset = dataset[dataset['language'] == 'en']\n",
    "print(\"Dataset size after removing non-english jobs: \", dataset.shape)\n",
    "print(\"Dataset columns: \", dataset.columns)\n",
    "# Keep only needed columns\n",
    "dataset = dataset[['company_name', 'job_title', 'job_description_text', 'job_url', 'job_location']]\n",
    "\n",
    "# Remove duplicates\n",
    "dataset = dataset.drop_duplicates(subset=['job_description_text'])\n",
    "print(\"Dataset size after removing duplicates: \", dataset.shape)\n",
    "\n",
    "# Drop rows with less than 100 characters\n",
    "dataset = dataset[dataset['job_description_text'].str.len() > 100]\n",
    "print(\"Dataset size after removing short job descriptions: \", dataset.shape)\n",
    "\n",
    "# Remove rows whose description does not contain the word energy or a related word\n",
    "# dataset = dataset[dataset['job_description_text'].str.contains(r'(nerg|renewable)', flags=re.IGNORECASE, regex=True, na=False)]\n",
    "# print(\"Dataset size after removing non-energy jobs: \", dataset.shape)\n"
   ]
  },
  {
   "cell_type": "code",
   "execution_count": 3,
   "metadata": {},
   "outputs": [],
   "source": [
    "def preprocess_text(text, lemmatize=True):\n",
    "    # Remove punctuation\n",
    "    text = re.sub(r'[^\\w\\s]', ' ', text)\n",
    "    \n",
    "    # Some pair of words are written together, we will split them\n",
    "    text = re.sub(r'([a-z]+)([A-Z])', r'\\1 \\2', text)\n",
    "    \n",
    "    # Lowercase\n",
    "    text = text.lower()\n",
    "\n",
    "    # Remove stop words and words with less than 3 characters\n",
    "    stop_words = set(stopwords.words('english'))\n",
    "    extra = {'experience', 'work', 'working', 'show', 'skills', 'skilled', 'role', 'technical', 'support', 'client', 'clients'\n",
    "            'less', 'team', 'ability', 'knowledge', 'new', 'company', 'within', 'solution', 'solutions'\n",
    "            'including', 'year', 'years', 'looking', 'opportunity', 'including','part', 'join',\n",
    "            'people', 'tool', 'job', 'jobs', 'worked', 'requirement', 'long', 'term'\n",
    "            'related', 'global', 'sexual', 'orientation', 'equal', 'employer', 'gender', 'identity'}\n",
    "    stop_words = stop_words.union(extra)\n",
    "    text = ' '.join([word for word in text.split() if word not in (stop_words)])\n",
    "\n",
    "    # Lemmatize\n",
    "    if lemmatize:\n",
    "        lemmatizer = WordNetLemmatizer()\n",
    "        text = ' '.join([lemmatizer.lemmatize(word) for word in text.split()])\n",
    "\n",
    "    return text\n",
    "\n",
    "def find_total_words(text):\n",
    "    return len(text.split())"
   ]
  },
  {
   "cell_type": "code",
   "execution_count": 4,
   "metadata": {},
   "outputs": [
    {
     "name": "stdout",
     "output_type": "stream",
     "text": [
      "Jobs before removing empty descriptions:  (2622, 5)\n",
      "Jobs after removing empty descriptions:  (2622, 5)\n"
     ]
    }
   ],
   "source": [
    "df = dataset.copy()\n",
    "unlemmatized_corpus = dataset['job_description_text'].apply(preprocess_text, lemmatize=False)\n",
    "df['job_description_text'] = df['job_description_text'].apply(preprocess_text)\n",
    "print(\"Jobs before removing empty descriptions: \", df.shape)\n",
    "\n",
    "# Remove empty descriptions\n",
    "df = df.dropna(subset=['job_description_text'])\n",
    "unlemmatized_corpus = unlemmatized_corpus.dropna()\n",
    "print(\"Jobs after removing empty descriptions: \", df.shape)"
   ]
  },
  {
   "cell_type": "code",
   "execution_count": 5,
   "metadata": {},
   "outputs": [
    {
     "name": "stdout",
     "output_type": "stream",
     "text": [
      "Total number of words in the corpus:  788873\n",
      "Total number of unique words in the corpus:  24025\n",
      "Most common words in the corpus:  [('data', 9320), ('energy', 7714), ('business', 6022), ('project', 5962), ('development', 3710), ('market', 3577), ('engineering', 3541), ('management', 3490), ('system', 3313), ('process', 3235), ('analysis', 3192), ('service', 2923), ('customer', 2824), ('le', 2739), ('environment', 2719), ('solution', 2691), ('technology', 2679), ('u', 2550), ('product', 2548), ('strong', 2516), ('industry', 2352), ('requirement', 2277), ('power', 2228), ('application', 2226), ('design', 2195), ('analyst', 2129), ('position', 2103), ('engineer', 2055), ('responsibility', 2042), ('degree', 1957)]\n",
      "Most common bigrams in the corpus:  [(('renewable', 'energy'), 708), (('data', 'analyst'), 661), (('e', 'g'), 659), (('data', 'analysis'), 642), (('bachelor', 'degree'), 606), (('problem', 'solving'), 574), (('master', 'degree'), 491), (('business', 'analyst'), 485), (('project', 'management'), 481), (('power', 'bi'), 452), (('decision', 'making'), 395), (('energy', 'market'), 390), (('related', 'field'), 389), (('cross', 'functional'), 387), (('data', 'driven'), 385), (('energy', 'transition'), 377), (('full', 'time'), 375), (('national', 'origin'), 338), (('energy', 'storage'), 327), (('attention', 'detail'), 319), (('computer', 'science'), 318), (('data', 'analytics'), 318), (('energy', 'sector'), 314), (('excellent', 'communication'), 311), (('internal', 'external'), 311), (('strong', 'analytical'), 307), (('best', 'practice'), 303), (('fast', 'paced'), 272), (('business', 'development'), 272), (('le', 'description'), 267)]\n"
     ]
    }
   ],
   "source": [
    "# Analyze job descriptions\n",
    "corpus = \" \".join(df['job_description_text'])\n",
    "\n",
    "# Total number of words\n",
    "total_words = find_total_words(corpus)\n",
    "print(\"Total number of words in the corpus: \", total_words)\n",
    "\n",
    "# Total number of unique words\n",
    "unique_words = len(set(corpus.split()))\n",
    "print(\"Total number of unique words in the corpus: \", unique_words)\n",
    "\n",
    "tokens = word_tokenize(corpus)\n",
    "fdist = nltk.FreqDist(tokens)\n",
    "print(\"Most common words in the corpus: \", fdist.most_common(30))\n",
    "\n",
    "bgs = nltk.bigrams(tokens)\n",
    "fdist = nltk.FreqDist(bgs)\n",
    "print(\"Most common bigrams in the corpus: \", fdist.most_common(30))"
   ]
  },
  {
   "cell_type": "code",
   "execution_count": 6,
   "metadata": {},
   "outputs": [
    {
     "name": "stdout",
     "output_type": "stream",
     "text": [
      "(2622, 23985)\n"
     ]
    }
   ],
   "source": [
    "# see what words are most common in the job descriptions\n",
    "vectorizer = TfidfVectorizer(use_idf=True)\n",
    "tf_idf_matrix = vectorizer.fit_transform(df['job_description_text'])\n",
    "print(tf_idf_matrix.shape)"
   ]
  },
  {
   "cell_type": "code",
   "execution_count": 7,
   "metadata": {},
   "outputs": [
    {
     "name": "stdout",
     "output_type": "stream",
     "text": [
      "Total words:  788873\n",
      "Unique words:  23985\n",
      "Ratio of unique words to total words:  0.03040413349170272\n"
     ]
    }
   ],
   "source": [
    "# total words vs unique words\n",
    "total = sum(df['job_description_text'].apply(find_total_words))\n",
    "unique = len(vectorizer.get_feature_names_out())\n",
    "\n",
    "print(\"Total words: \", total)\n",
    "print(\"Unique words: \", unique)\n",
    "print(\"Ratio of unique words to total words: \", unique / total)\n"
   ]
  },
  {
   "cell_type": "code",
   "execution_count": 8,
   "metadata": {},
   "outputs": [],
   "source": [
    "from IPython.display import Markdown, display\n",
    "\n",
    "def job_recommendation(job_description, corpus, n=5):\n",
    "    job_description = preprocess_text(job_description)\n",
    "    print(job_description)\n",
    "    # Create a tf-idf matrix for the job description\n",
    "    job_description_matrix = vectorizer.transform([job_description])\n",
    "    \n",
    "    # Calculate cosine similarity between the job description and the corpus\n",
    "    cosine_similarities = cosine_similarity(job_description_matrix, corpus).flatten()\n",
    "    \n",
    "    # Get the indices of the n most similar job descriptions\n",
    "    most_similar = cosine_similarities.argsort()[-n:][::-1]\n",
    "\n",
    "    display(Markdown(\"### Most similar jobs:\"))\n",
    "    for i in most_similar:\n",
    "        display(Markdown(\"#### \" + dataset.iloc[i]['job_title'] + \" at \" + dataset.iloc[i]['company_name'] + \", \" + dataset.iloc[i]['job_location'] + \", \" + dataset.iloc[i]['job_url'] + \" (Cosine similarity: \" + str(cosine_similarities[i]) + \")\" ))\n",
    "        display(Markdown(dataset.iloc[i]['job_description_text']))\n",
    "        display(Markdown(\"___\"))\n",
    "\n",
    "    return most_similar\n"
   ]
  },
  {
   "cell_type": "code",
   "execution_count": 9,
   "metadata": {},
   "outputs": [
    {
     "name": "stdout",
     "output_type": "stream",
     "text": [
      "energy market analyst hydro power monte carlo simulation\n"
     ]
    },
    {
     "data": {
      "text/markdown": [
       "### Most similar jobs:"
      ],
      "text/plain": [
       "<IPython.core.display.Markdown object>"
      ]
     },
     "metadata": {},
     "output_type": "display_data"
    },
    {
     "data": {
      "text/markdown": [
       "#### Investor Relations Officer at Norsk Hydro, Norway, https://www.linkedin.com/jobs/view/3828185205 (Cosine similarity: 0.22214218232237803)"
      ],
      "text/plain": [
       "<IPython.core.display.Markdown object>"
      ]
     },
     "metadata": {},
     "output_type": "display_data"
    },
    {
     "data": {
      "text/markdown": [
       "Investor Relations (IR) is responsible for Hydro's contact with analysts, investors and stock exchanges, with the aim to build and maintain Hydro’s strong credibility in the financial markets. Based in Oslo, the IR team is a part of the CFO organization and consists of three people working closely with Hydro's senior management.We are looking for a proactive person with business and financial understanding, strong attention to detail, and an ability to thrive and contribute efficiently in periods of high workload. We need you to support on key IR analyses and deliveries, while also supporting on our team’s logistics and administration on a day to day basis.We are offering an exciting opportunity to gain a broad understanding of Hydro’s total value chain and strategy, through close cooperation with all the business areas in Hydro, as well as the perspectives of the financial markets. The position will work closely with the members of the Corporate Management Board. For the right candidate, this position offers an attractive platform for personal growth and development in areas such as finance, communication, strategy and M&A. Hydro’s strategy toward 2030 focuses on pioneering the green aluminium transition, powered by renewable energy.Areas of responsibility Analyze the financial market's view of the company and peers and convey this view to internal stakeholders.Interact, run analyses and prepare input in response to investor and analyst questionnaires.Maintain and improve internal IR financial models and tools.Contribute on presentations towards investors, analysts and internally, including presentations for quarterly releases and Capital Markets Day Ensure compliance with relevant exchanges and agencies, owning relationship to stakeholders in these organizations.Support the development of press releases and stock exchange announcements.Contribute to investor targeting and company outreach.Manage or support Hydro’s calendar of investor conferences and roadshows and coordinate participation with corporate management.Manage or support IR team calendar of key meetings and deliveries.Manage logistics for main IR events, such as quarterly releases and Capital Markets Day.Qualifications Master’s degree, preferably within economics or finance 1-3 years of relevant post-university work experience, ideally in a structured analytical or financial role. We will consider both newly graduated and more experienced candidates.Experience with modelling and financial valuation, investment banking, investor relations, consulting, or equity analyses is seen as an advantage.Strong understanding of and interest in capital markets and finance/accounting Strong analytical and problem-solving skills Strong administrative and organizational skills, and the ability to coordinate multiple deliveries simultaneously.Strong communication and storytelling skills, comfortable presenting analytical findings and strategic topics Advanced in Microsoft Office package, primarily Power Point and Excel You work independently and thrive in a role that requires both financial analysis and organizational skills.You provide accurate and timely information and service to a wide range of internal and external stakeholders. You can develop a network internally and externally, are curious, service minded, collaborative, and have the drive and willingness to learn.You are motivated to work in a hectic and demanding environment.High level of written and oral English is required.Additional Information Some travel is expected.Please enclose a cover letter and copies of relevant academic transcripts, diplomas, certificates etc. Only applications received through our online system will be considered, not via e-mail.As part of our recruitment process, we use Semac for background check.Apply before: 03.03.2024If you have any questions, please contact:Hiring manager Martine Ramboel Hagen Email: Martine.Rambol.Hagen@hydro.com Phone: (Norway +47) 91708918Recruiter Birgitta Sanden Email:Birgitta.Sanden@hydro.com Phone:(Norway +47) 97031556                    Show more                          Show less"
      ],
      "text/plain": [
       "<IPython.core.display.Markdown object>"
      ]
     },
     "metadata": {},
     "output_type": "display_data"
    },
    {
     "data": {
      "text/markdown": [
       "___"
      ],
      "text/plain": [
       "<IPython.core.display.Markdown object>"
      ]
     },
     "metadata": {},
     "output_type": "display_data"
    },
    {
     "data": {
      "text/markdown": [
       "#### Advisory Energy Forecasting Consultant at Inceed, United States, https://www.linkedin.com/jobs/view/3597724975 (Cosine similarity: 0.15853867461467955)"
      ],
      "text/plain": [
       "<IPython.core.display.Markdown object>"
      ]
     },
     "metadata": {},
     "output_type": "display_data"
    },
    {
     "data": {
      "text/markdown": [
       "Compensation: $120,000-$150,000Location: Remote, TexasAdvisory Energy Forecasting Consultant :Inceed has partnered with a global leader in the electrical power grids and software industry to help find a skilled Advisory Energy Forecasting Consultant to join their team!We are seeking an experienced Advisory Energy Forecasting Consultant with expertise in production cost modeling within the NYISO and ISO New England markets. The successful candidate will provide expert guidance to clients on the most effective energy strategies to optimize their operations and reduce costs.Responsibilities:Develop and execute production cost models for clients operating within the NYISO and ISO New England markets Analyze market trends and provide insights into energy price movements Develop and recommend energy strategies to clients based on market conditions and analysis Monitor and evaluate the effectiveness of energy strategies implemented by clients Conduct research and analysis of energy markets, technologies and regulatory policies Build and maintain relationships with clients to ensure continued satisfaction with services provided Provide training and support to clients on energy market fundamentals and production cost modeling techniques Required Qualifications & Experience:Bachelor's degree in Engineering, Economics, Business or related field 5+ years of experience in energy consulting with a focus on production cost modeling and capacity expansion planning required. Strong knowledge of NYISO and ISO New England energy markets Proficient in the use of production cost modeling tools, such as PROMOD, PLEXOS, Monte Carlo, GE Maps, or similar tool is required. Excellent analytical, problem-solving and decision-making skills Strong communication and interpersonal skills with the ability to build and maintain relationships with clients Ability to work independently and in a team environment Must have experience with either Zonal or Nodal modeling/forecasting is required. Flexibility to travel as needed Nice to Have Skills & Experience:Graduate degree and/or PhD preferred, not required Experience as an economics or financial modeling consultant is a plus. Prior experience as an Electrical Power Systems Engineer or Software Engineer is nice to have. Perks & Benefits: Position is fully remote! Long term, stable career opportunity, with plans for global growth across the company! Competitive base, bonus, and benefits plans! If you are interested in learning more about the Advisory Energy Forecasting Consultant opportunity, please submit your resume for consideration.We are Inceed, a staffing and direct placement firm who believes in the possibility of something better. Our mission is simple: We’re here to help every person, whether client, candidate, or employee, find and secure what’s better for them. Inceed is an equal opportunity employer. Inceed prohibits discrimination and harassment of any type and affords equal employment opportunities to employees and applicants without regard to race, color, religion, sex, sexual orientation, gender identity or expression, pregnancy, age, national origin, disability status, genetic information, protected veteran status, or any other characteristic protected by law.           Show more                     Show less"
      ],
      "text/plain": [
       "<IPython.core.display.Markdown object>"
      ]
     },
     "metadata": {},
     "output_type": "display_data"
    },
    {
     "data": {
      "text/markdown": [
       "___"
      ],
      "text/plain": [
       "<IPython.core.display.Markdown object>"
      ]
     },
     "metadata": {},
     "output_type": "display_data"
    },
    {
     "data": {
      "text/markdown": [
       "#### Chief of Staff - Renewable Energy Software at HYDROGRID, Austria, https://www.linkedin.com/jobs/view/3815511739 (Cosine similarity: 0.15156992552842882)"
      ],
      "text/plain": [
       "<IPython.core.display.Markdown object>"
      ]
     },
     "metadata": {},
     "output_type": "display_data"
    },
    {
     "data": {
      "text/markdown": [
       "About us  We are a fast-growing B2B SaaS company dedicated to empowering Hydro Operators to maximise both their revenue and total (renewable) energy production - making hydro a power for the future and the backbone of the zero carbon economy. Join us in our mission to make hydro a power for the future!  Your mission  Strategic Oversight:  Collaborate closely with the CEO and executive team to develop and execute strategic initiatives. Conduct research and analysis to inform decision-making.   Project Management:  Lead and manage key projects from inception to completion, ensuring deadlines are met and objectives are achieved. Streamline processes and workflows to optimize operational efficiency.   Communication and Coordination:.  \t Coordinate and facilitate cross-functional meetings, ensuring key decisions are documented and implemented.   Problem Solving:  Anticipate challenges and proactively address them, finding creative solutions to complex issues.   Leadership Support:  Provide direct support to the CEO and executive team in day-to-day activities. Assist in preparing materials for presentations, meetings, and reports.   Data Analysis:  Utilize data-driven insights to inform decision-making and identify opportunities for improvement. Track and analyze key performance indicators to assess the success of strategic initiatives.   Culture and Team Building:  Assist the executive team with recruitment and Team Building. Collaborate with the executive team to implement initiatives that enhance team cohesion and employee satisfaction.     Your profile  Proven Experience:  Minimum of 4 years experience, with at least 2 years in a similar role, preferably in a startup or other fast paced environment. Demonstrated success in project management and strategic planning.   Strategic Thinking:  Strong analytical and problem-solving skills with the ability to think strategically and act tactically.   Communication Skills:  Excellent written and verbal communication skills in both English andGerman, with the ability to articulate complex ideas clearly and concisely.   Leadership:  Proven ability to lead and motivate teams, fostering a collaborative and results-driven environment.   Adaptability:  Comfortable working in a fast-paced, evolving startup environment. Ability to adapt to changing priorities and navigate ambiguity.   Initiative:  Self-starter with a proactive approach to identifying and addressing challenges. Willingness to take on new responsibilities and go above and beyond to achieve goals.   Tech-Savvy:  Proficiency in using various software and tools for project management, communication, and data analysis.   Team Player:  Ability to work collaboratively with diverse teams and stakeholders. Demonstrated commitment to fostering a positive and inclusive workplace culture.     Why us?  A clear vision: work on the transformation of renewables into smart hydro power plants to enable grid balancing with purely green energy A strong ambition: we are at the beginning of our exciting scale-up story to contribute globally to the energy transformation A great spirit:the ability to work on a green future is what unites us and motives each of us every day. Latest technology: our DNA is R&D driven allowing us to not only using the latest technology but also developing our own methodology beyond the state of the art to stay one step ahead of competition Room for career development and personal growth:As a growing company, we continuously need to expand our skills, team and leadership – we can offer rapid career development opportunities. A flexible work environment Competitive compensation           Show more                     Show less"
      ],
      "text/plain": [
       "<IPython.core.display.Markdown object>"
      ]
     },
     "metadata": {},
     "output_type": "display_data"
    },
    {
     "data": {
      "text/markdown": [
       "___"
      ],
      "text/plain": [
       "<IPython.core.display.Markdown object>"
      ]
     },
     "metadata": {},
     "output_type": "display_data"
    },
    {
     "data": {
      "text/markdown": [
       "#### Quantitative Analyst at Randstad Hellas, Athens Metropolitan Area, https://www.linkedin.com/jobs/view/3823157226 (Cosine similarity: 0.1434863147709692)"
      ],
      "text/plain": [
       "<IPython.core.display.Markdown object>"
      ]
     },
     "metadata": {},
     "output_type": "display_data"
    },
    {
     "data": {
      "text/markdown": [
       "Would you like to make your next career step as Quantitative Analyst? Are you willing to be member of the 1st provider of integrated energy in Greece?Randstad, on behalf of Ζenith, is looking for an experienced Quantitative Analyst!The Quantitative Analyst position is full-time and permanent, based in Thessaloniki or Athens! If you're the type of person we are looking for, then apply now!ResponsibilitiesAs a Quantitative Analyst, your responsibilities will be following:Coordinate and execute the quantitative analysis for the development, maintenance and enhancement of the models used in portfolio management, pricing and forecasting activities pertinent to the energy market (power, gas, oil, green certificates)Work with large datasets. Produce comprehensible data structuresConfigure and optimize the utilization of internal software applications (Energy Trading and Risk Management / ETRM, BI, machine learning models, etc.)Continuous reporting to the upper managementDefine the requirements, develop, test, review and enhance the calculation models for:forecasting, hedging, portfolio optimization strategies in the energy sectorpricing / costing activities including the valuation of the risks associated with the purchase or sale of commodities (price risk, volume risk, shaping risk, proxy hedging risk, etc.)machine learning, optimization-based models, historical simulation, Monte-Carlo simulation, bootstrapping, parametric modellingprice and volume scenario derivation to represent stochasticity (e.g. consumption scenarios, wind / solar production scenarios, power / gas price scenarios)risk metric calculation for the energy portfolio (e.g., value at risk / VAR, conditional value at risk / CVAR, profit at risk / PAR, Variance, Cumulative Distribution Function / CDF, etc.)QualificationsIn order for your profile to match the Quantitative Analyst position, you need to have:Experience in quantitative analysis, models and processes to support risk management activities (stochastic processes, econometric methods, optimization) and in the functional areas portfolio management and pricingExperience with programming languages such as Python/PySpark, Matlab, optimization software (e.g. GAMS), VBA, C# (.NET)Experience with scenario generation (e.g. ARIMA models), scenario reduction techniquesFamiliarity with stochastic and deterministic programming (e.g., linear programming, mixed integer linear programming)Familiarity with machine learning algorithmsData visualization / BI tools skills will be considered an assetKnowledge of database structure languages, such as MySQL, is a plusBachelor’s or Diploma degree in Mathematics, Finance, Economics, Statistics, Engineering, Informatics, Physics, or related field with a focus on Statistics or Quantitative FinanceMaster’s or PhD degree in Data / Quantitative Analysis, Risk Management, Economics or related field will be highly appreciatedExperience3+ years of experience in companies operating in the electricity and natural gas, banking or financial sectorsSkillsExcellent analytical and problem solving skillsAbility to work under high pressureResults oriented and self-motivatedAttention to detailsStrong time management, project management and priorities management skillsCommand of the Greek and English language, both oral and writtenBenefits The company offers the following benefits to the Quantitative Analyst position:Attractive remuneration packageMonthly meal ticketsPrivate medical insuranceFresh & friendly work environmentEnrichment of technical skills with new technology stackWorking in the 1st provider of integrated energy in Greece, with natural gas and electricity (!!!)Further career opportunitiesInformationIn case you want to discuss further details regarding the Quantitative Analyst position, feel free to reach Michalis Isaakidis at 6952361070 for further details!Please note that for transparency and equity reasons, only those applications made online via our site will be assessed. After the screening of all the CVs received, we will only contact the candidates who meet the requirements of the job to arrange an interview. All applications are considered strictly confidential.           Show more                     Show less"
      ],
      "text/plain": [
       "<IPython.core.display.Markdown object>"
      ]
     },
     "metadata": {},
     "output_type": "display_data"
    },
    {
     "data": {
      "text/markdown": [
       "___"
      ],
      "text/plain": [
       "<IPython.core.display.Markdown object>"
      ]
     },
     "metadata": {},
     "output_type": "display_data"
    },
    {
     "data": {
      "text/markdown": [
       "#### Transportation Engineer Modeler at Energy Jobline, VA, https://www.linkedin.com/jobs/view/3771427779 (Cosine similarity: 0.1430202516538447)"
      ],
      "text/plain": [
       "<IPython.core.display.Markdown object>"
      ]
     },
     "metadata": {},
     "output_type": "display_data"
    },
    {
     "data": {
      "text/markdown": [
       "DescriptionJoin a forward-thinking team committed to innovating the transportation sector! At Leidos, we support the Federal Highway Administration’s (FHWA) Saxton Transportation Operations Laboratory (STOL), focusing on enhancing transportation operations, safety, mobility, and reducing environmental impacts. STOL champions the integration of emerging technologies such as cooperative driving automation (CDA) and Vehicle-to-Everything (V2X) to revolutionize transportation.Learn more about STOL here!Role OverviewWe are seeking a dedicated Transportation Engineer/Modeler to join our McLean, Virginia group. You will engage in dynamic projects involving Operations, Safety, Freight, and Access Management and in the growing and rapidly advancing fields of Intelligent Transportation Systems (ITS), CDA, V2X, and Connected Vehicle (CV) technologies.Key Responsibilities, But Are Not Limited ToConduct research on a variety of transportation engineering projects, which encompass traffic simulation, CDA, V2X, CV, safety, and Intelligent Transportation Systems (ITS).Execute traffic simulation projects across multiple scales, ranging from microscopic to macroscopic levels.Develop, refine, and maintain simulation networks, manage comprehensive data analysis, and implement cutting-edge algorithms in an open-source environment.Perform cross-disciplinary CDA simulations, including automated driving simulation, vehicle dynamics simulation, V2X communication simulation, and sensor simulation.Participate in the creation of digital twins and high-definition (HD) mapsUtilize data mining techniques and algorithms to analyze Connected and Automated Vehicle (CAV) data.Create guidance, training, and outreach materials aimed at technical audiences, practitioners, and various stakeholders, focusing on diverse aspects of transportation.Develop documentation, reports, manuals, and presentations to effectively communicate project results to intended audiences, ensuring clarity and practical applicability in both oral and written forms.Contribute to the development, support, and review of technical proposals.Author white papers, proposals, and briefings that demonstrate technical and thought leadership, catering to the needs of Leidos leadership or clients.Required QualificationsAdvanced degree (Master’s or higher) in Transportation Engineering, Systems Engineering, Computer Science, or related fields.Extensive experience with at least one of microscopic traffic simulation tools (e.g., SUMO, Vissim, Aimsun, Transmolder, or similar).Ability to obtain and maintain a Public Trust clearance (which includes three years of immediate residency in the US).Proficiency in programming for implementing developed algorithms into microscopic traffic simulation tools (C++, Java, Python, VBA, or Matlab).Demonstrated ability to author technical research papers and reports.Expertise in advanced data analytics for transportation.Knowledge of CAV, Intelligent Transportation Systems, and traffic operation and management.Clear communication skills, both verbal and written.Preferred ExperienceProficient in autonomous driving and sensor simulation tools, with direct hands-on experience (e.g., CARLA, LGSVL, CARMAKER, or similar).Experience with developing digital twin and 3D simulation scenes for autonomous driving and sensor simulation tools by using professional tools (e.g., Roadrunner).Experience with creating high-definition (HD) maps.Familiarity with concepts of co-simulation or co-simulation frameworks (FMI/HLA/MOSAIC)Solid understanding of Vehicle-to-Everything (V2X) communication protocols and experience with communication simulation tools such as NS-3 and OMNET++.Experience with vehicle dynamics simulators (e.g., CARSIM and TruckSIM).Hands-on experience or familiarity with CARMA ecosystem (e.g., CARMA platform, CARMA streets, CARMA messenger, and CARMA Cloud)Experience with implementing artificial intelligence (AI) and machine learning in transportationFamiliar with augmented reality (AR) and virtual reality (VR) technologies.Demonstrated project management skills, with a track record of successfully overseeing projects from inception to completion.Capable of developing Requests for Information (RFI), Requests for Proposal (RFP), and managing subcontractor agreements.Proven experience in managing subcontractors, ensuring adherence to project specifications and timelines.Experience with leading or assisting in the development of technical proposals, showcasing the ability to convey complex ideas effectively.Competent in developing cost models, basis of estimates (BOEs), and Bill of Materials (BOM) for diverse projects.Agile methodology proficiency, with experience in applying agile practices in development environments.Team DynamicsStrong team collaboration and ability to engage in constructive feedback.Clear communication skills, both verbal and written.Adherence to schedules with a focused work ethic.Receptive to professional growth and learning.High quality standards and work pride.Enthusiasm for the field of transportation simulation and technology.Anticipated pay range for this position: $80,000-$100,000Pay RangePay Range $65,000.00 - $117,500.00The Leidos pay range for this job level is a general guideline only and not a guarantee of compensation or salary. Additional factors considered in extending an offer include (but are not limited to) responsibilities of the job, education, experience, knowledge, skills, and abilities, as well as internal equity, alignment with market data, applicable bargaining agreement (if any), or other law.Original Posting Date11/20/2023While subject to change based on business needs, Leidos reasonably anticipates that this job requisition will remain open for at least 3 days with an anticipated close date of no earlier than 3 days after the original posting date as listed above.                 Show more                     Show less"
      ],
      "text/plain": [
       "<IPython.core.display.Markdown object>"
      ]
     },
     "metadata": {},
     "output_type": "display_data"
    },
    {
     "data": {
      "text/markdown": [
       "___"
      ],
      "text/plain": [
       "<IPython.core.display.Markdown object>"
      ]
     },
     "metadata": {},
     "output_type": "display_data"
    },
    {
     "data": {
      "text/plain": [
       "array([2532,  955, 1297, 1456,  505])"
      ]
     },
     "execution_count": 9,
     "metadata": {},
     "output_type": "execute_result"
    }
   ],
   "source": [
    "job_recommendation(\"We are looking for an energy market analyst with experience in Hydro power and monte carlo simulation\", tf_idf_matrix, 5)"
   ]
  },
  {
   "cell_type": "markdown",
   "metadata": {},
   "source": [
    "## TF-IDF Weighted Word2Vec"
   ]
  },
  {
   "cell_type": "code",
   "execution_count": 10,
   "metadata": {},
   "outputs": [
    {
     "name": "stdout",
     "output_type": "stream",
     "text": [
      "['fasttext-wiki-news-subwords-300', 'conceptnet-numberbatch-17-06-300', 'word2vec-ruscorpora-300', 'word2vec-google-news-300', 'glove-wiki-gigaword-50', 'glove-wiki-gigaword-100', 'glove-wiki-gigaword-200', 'glove-wiki-gigaword-300', 'glove-twitter-25', 'glove-twitter-50', 'glove-twitter-100', 'glove-twitter-200', '__testing_word2vec-matrix-synopsis']\n"
     ]
    }
   ],
   "source": [
    "print(list(api.info()['models'].keys()))"
   ]
  },
  {
   "cell_type": "code",
   "execution_count": 21,
   "metadata": {},
   "outputs": [
    {
     "name": "stdout",
     "output_type": "stream",
     "text": [
      "Loading model from file...\n"
     ]
    }
   ],
   "source": [
    "try:\n",
    "    print(\"Loading model from file...\")\n",
    "    google_model = joblib.load('joblib/google_model.pickle')\n",
    "except:\n",
    "    print(\"Downloading model...\")\n",
    "    google_model = api.load('word2vec-google-news-300')\n",
    "    joblib.dump(google_model, 'joblib/google_model.pickle')"
   ]
  },
  {
   "cell_type": "code",
   "execution_count": 12,
   "metadata": {},
   "outputs": [],
   "source": [
    "def build_tfw2v(corpus, vectors, embeddings_size, vectorizer=None):\n",
    "    \"\"\"\n",
    "    Build TF-IDF weighted Word2Vec embeddings for a given corpus.\n",
    "\n",
    "    Args:\n",
    "        corpus (list): List of text descriptions.\n",
    "        vectors (gensim.models.KeyedVectors): Pre-trained Word2Vec vectors.\n",
    "        embeddings_size (int): Size of the Word2Vec embeddings.\n",
    "        vectorizer (sklearn.feature_extraction.text.TfidfVectorizer, optional): TF-IDF vectorizer. \n",
    "            If not provided, a new vectorizer will be created.\n",
    "\n",
    "    Returns:\n",
    "        numpy.ndarray: TF-IDF weighted Word2Vec embeddings for the corpus.\n",
    "    \"\"\"\n",
    "\n",
    "    if vectorizer is None:\n",
    "        vectorizer = TfidfVectorizer(use_idf=True)\n",
    "        tf_idf = vectorizer.fit_transform(corpus).toarray()\n",
    "    else:\n",
    "        tf_idf = vectorizer.transform(corpus).toarray()\n",
    "\n",
    "    vector_vocabulary = vectors.index_to_key\n",
    "    tf_idf_vocabulary = vectorizer.vocabulary_\n",
    "    w2v_corpus = np.zeros((len(corpus), embeddings_size))\n",
    "    \n",
    "    for index, description in enumerate(corpus):\n",
    "        words = description.split()\n",
    "\n",
    "        # For every word that exists in the vocabulary, multiply its vector by the TF-IDF of the word\n",
    "        numerator = [vectors[word]*tf_idf[index][tf_idf_vocabulary[word]] for word in words if word in vector_vocabulary and word in tf_idf_vocabulary]\n",
    "\n",
    "        # Matrix addition\n",
    "        numerator = np.array(np.sum(numerator, axis=0))\n",
    "        \n",
    "        # Sum of all words' TF-IDF, existing in the vocabulary \n",
    "        denominator = np.sum([tf_idf[index][tf_idf_vocabulary[word]] for word in words if word in vector_vocabulary and word in tf_idf_vocabulary])\n",
    "\n",
    "        w2v_desc = np.array(numerator/denominator)\n",
    "        w2v_corpus[index] = w2v_desc\n",
    "\n",
    "    return w2v_corpus\n",
    "\n",
    "def job_recommendation_w2v(candidate, corpus, vectors, vectorizer, embeddings_size, n=5, verbose=0):\n",
    "    \"\"\"\n",
    "    Recommends similar jobs based on a candidate's job description using weighted word2vec representation.\n",
    "\n",
    "    Args:\n",
    "        candidate (str): The candidate's job description.\n",
    "        corpus (array-like): The corpus of job descriptions to compare against.\n",
    "        vectors (array-like): The pre-trained word vectors.\n",
    "        vectorizer (object): The vectorizer used to transform text into vectors.\n",
    "        embeddings_size (int): The size of the word embeddings.\n",
    "        n (int, optional): The number of most similar jobs to recommend. Defaults to 5.\n",
    "        verbose (bool, optional): Whether to display detailed information about the recommended jobs. Defaults to False.\n",
    "\n",
    "    Returns:\n",
    "        array-like: The indices of the n most similar job descriptions.\n",
    "\n",
    "    \"\"\"\n",
    "    candidate_description = preprocess_text(candidate, lemmatize=False)\n",
    "    print(candidate_description)\n",
    "\n",
    "    # Calculate the weighted word2vec representation of the job description\n",
    "    w2v_job_description = build_tfw2v([candidate_description], vectors, embeddings_size, vectorizer)\n",
    "\n",
    "    # Calculate cosine similarity between the job description and the corpus\n",
    "    cosine_similarities = cosine_similarity(w2v_job_description, corpus).flatten()\n",
    "\n",
    "    # Get the indices of the n most similar job descriptions\n",
    "    most_similar = cosine_similarities.argsort()[-n:][::-1]\n",
    "\n",
    "    display(Markdown(\"### Most similar jobs:\"))\n",
    "    if verbose == 2:\n",
    "        for i in most_similar:\n",
    "            display(Markdown(\"#### \" + dataset.iloc[i]['job_title'] + \" at \" + dataset.iloc[i]['company_name'] +  \", \" + dataset.iloc[i]['job_location'] +  \", \" + dataset.iloc[i]['job_url'] + \" (Cosine similarity: \" + str(cosine_similarities[i]) + \")\" ))\n",
    "            display(Markdown(dataset.iloc[i]['job_description_text']))\n",
    "            display(Markdown(\"___\"))\n",
    "    elif verbose == 1:\n",
    "        for i in most_similar:\n",
    "            display(Markdown(dataset.iloc[i]['job_title'] + \" at \" + dataset.iloc[i]['company_name'] +  \", \" + dataset.iloc[i]['job_location'] +  \", \" + dataset.iloc[i]['job_url'] + \" (Cosine similarity: \" + str(cosine_similarities[i]) + \")\" ))\n",
    "            display(Markdown(\"___\"))\n",
    "    return most_similar, cosine_similarities\n",
    "    \n",
    "def job_recommendation_from_file(candidate, job_file, vectors, vectorizer, embeddings_size, n=5, verbose=0):\n",
    "    jobs = pd.read_csv(job_file, delimiter=';', names=['job_id', 'company_name', 'job_title', 'job_location', 'job_description_text', 'language', 'job_url'])\n",
    "    jobs = jobs[jobs['language'] == 'en']\n",
    "    jobs = jobs.drop_duplicates(subset=['job_description_text'])\n",
    "    jobs = jobs[jobs['job_description_text'].str.len() > 100]\n",
    "\n",
    "\n",
    "    corpus = jobs['job_description_text'].apply(preprocess_text, lemmatize=False)\n",
    "    corpus = build_tfw2v(corpus, vectors, embeddings_size, vectorizer)\n",
    "\n",
    "    shape = corpus.shape\n",
    "    # Delete empty rows\n",
    "    jobs = jobs.dropna(subset=['job_description_text'])\n",
    "\n",
    "    if shape[0] != jobs.shape[0]:\n",
    "        print(shape[0] - jobs.shape[0], \"empty rows deleted\")\n",
    "\n",
    "    indices, cosine_similarities = job_recommendation_w2v(candidate, corpus, vectors, vectorizer, embeddings_size, n, 0)\n",
    "\n",
    "    if verbose == 2:\n",
    "        for i in indices:\n",
    "            display(Markdown(\"#### \" + jobs.iloc[i]['job_title'] + \" at \" + jobs.iloc[i]['company_name'] +  \", \" + jobs.iloc[i]['job_location'] +  \", \" + jobs.iloc[i]['job_url'] + \" (Cosine similarity: \" + str(cosine_similarities[i]) + \")\" ))\n",
    "            display(Markdown(jobs.iloc[i]['job_description_text']))\n",
    "            display(Markdown(\"___\"))\n",
    "    elif verbose == 1:\n",
    "        for i in indices:\n",
    "            display(Markdown(jobs.iloc[i]['job_title'] + \" at \" + jobs.iloc[i]['company_name'] +  \", \" + jobs.iloc[i]['job_location'] +  \", \" + jobs.iloc[i]['job_url'] + \" (Cosine similarity: \" + str(cosine_similarities[i]) + \")\" ))\n",
    "            display(Markdown(\"___\"))\n",
    "    \n",
    "    return indices, cosine_similarities, jobs\n",
    "\n"
   ]
  },
  {
   "cell_type": "code",
   "execution_count": 13,
   "metadata": {},
   "outputs": [],
   "source": [
    "try:\n",
    "    corpora_google = joblib.load('joblib/corpora_google_energy.pkl')\n",
    "except:\n",
    "    print(\"Building google corpus\")\n",
    "    corpora_google = build_tfw2v(unlemmatized_corpus, google_model, 300)\n",
    "    print(\"Corpus built\")\n",
    "    joblib.dump(corpora_google, 'joblib/corpora_google_energy.pkl')  # Add this line to assign a value to 'y'\n"
   ]
  },
  {
   "cell_type": "code",
   "execution_count": 14,
   "metadata": {},
   "outputs": [
    {
     "name": "stdout",
     "output_type": "stream",
     "text": [
      "entry level junior energy market analyst hydro power monte carlo simulation masters degree energy power systems renewable energy sources engineer matlab\n"
     ]
    },
    {
     "data": {
      "text/markdown": [
       "### Most similar jobs:"
      ],
      "text/plain": [
       "<IPython.core.display.Markdown object>"
      ]
     },
     "metadata": {},
     "output_type": "display_data"
    },
    {
     "data": {
      "text/markdown": [
       "Energy Market Modeller (Plexos) at Turner Lovell, Germany, https://www.linkedin.com/jobs/view/3811037342 (Cosine similarity: 0.8363361207517792)"
      ],
      "text/plain": [
       "<IPython.core.display.Markdown object>"
      ]
     },
     "metadata": {},
     "output_type": "display_data"
    },
    {
     "data": {
      "text/markdown": [
       "___"
      ],
      "text/plain": [
       "<IPython.core.display.Markdown object>"
      ]
     },
     "metadata": {},
     "output_type": "display_data"
    },
    {
     "data": {
      "text/markdown": [
       "Head Energy is looking for a skilled/experienced System Engineer. at Head Energy AS, Norway, https://www.linkedin.com/jobs/view/3820587503 (Cosine similarity: 0.8361680537094076)"
      ],
      "text/plain": [
       "<IPython.core.display.Markdown object>"
      ]
     },
     "metadata": {},
     "output_type": "display_data"
    },
    {
     "data": {
      "text/markdown": [
       "___"
      ],
      "text/plain": [
       "<IPython.core.display.Markdown object>"
      ]
     },
     "metadata": {},
     "output_type": "display_data"
    },
    {
     "data": {
      "text/markdown": [
       "Public Affairs Officer Transport & Energy at Virya Energy, Belgium, https://www.linkedin.com/jobs/view/3798655943 (Cosine similarity: 0.8350234011814053)"
      ],
      "text/plain": [
       "<IPython.core.display.Markdown object>"
      ]
     },
     "metadata": {},
     "output_type": "display_data"
    },
    {
     "data": {
      "text/markdown": [
       "___"
      ],
      "text/plain": [
       "<IPython.core.display.Markdown object>"
      ]
     },
     "metadata": {},
     "output_type": "display_data"
    },
    {
     "data": {
      "text/markdown": [
       "Energy Consultant at PT Renewables 🌳, United Kingdom, https://www.linkedin.com/jobs/view/3811010351 (Cosine similarity: 0.8251357946271937)"
      ],
      "text/plain": [
       "<IPython.core.display.Markdown object>"
      ]
     },
     "metadata": {},
     "output_type": "display_data"
    },
    {
     "data": {
      "text/markdown": [
       "___"
      ],
      "text/plain": [
       "<IPython.core.display.Markdown object>"
      ]
     },
     "metadata": {},
     "output_type": "display_data"
    },
    {
     "data": {
      "text/markdown": [
       "Sustainability Engineer - Relocate to Saudi Arabia, Permanent Expat Family Relocation Package at aramco, United Kingdom, https://www.linkedin.com/jobs/view/3796128399 (Cosine similarity: 0.821883175779792)"
      ],
      "text/plain": [
       "<IPython.core.display.Markdown object>"
      ]
     },
     "metadata": {},
     "output_type": "display_data"
    },
    {
     "data": {
      "text/markdown": [
       "___"
      ],
      "text/plain": [
       "<IPython.core.display.Markdown object>"
      ]
     },
     "metadata": {},
     "output_type": "display_data"
    },
    {
     "data": {
      "text/plain": [
       "(array([  79, 1061,  601,  880, 1421]),\n",
       " array([0.55224747, 0.73394574, 0.39969957, ..., 0.48999678, 0.5550241 ,\n",
       "        0.3780957 ]))"
      ]
     },
     "execution_count": 14,
     "metadata": {},
     "output_type": "execute_result"
    }
   ],
   "source": [
    "job_recommendation_w2v(\"We are looking for an entry-level junior energy market analyst with experience in Hydro power and monte carlo simulation. With masters degree in energy power systems and experience as a renewable energy sources engineer. Skilled in MATLAB.\", corpora_google, google_model, vectorizer, 300, 5, verbose=True)"
   ]
  },
  {
   "cell_type": "code",
   "execution_count": 15,
   "metadata": {},
   "outputs": [
    {
     "name": "stdout",
     "output_type": "stream",
     "text": [
      "entry level junior energy market analyst hydro power monte carlo simulation masters degree energy power systems renewable energy sources engineer matlab\n"
     ]
    },
    {
     "data": {
      "text/markdown": [
       "### Most similar jobs:"
      ],
      "text/plain": [
       "<IPython.core.display.Markdown object>"
      ]
     },
     "metadata": {},
     "output_type": "display_data"
    },
    {
     "data": {
      "text/markdown": [
       "Senior Energy Modeler at Southern Lights, Sweden, https://www.linkedin.com/jobs/view/3784551535 (Cosine similarity: 0.8180115991092731)"
      ],
      "text/plain": [
       "<IPython.core.display.Markdown object>"
      ]
     },
     "metadata": {},
     "output_type": "display_data"
    },
    {
     "data": {
      "text/markdown": [
       "___"
      ],
      "text/plain": [
       "<IPython.core.display.Markdown object>"
      ]
     },
     "metadata": {},
     "output_type": "display_data"
    },
    {
     "data": {
      "text/markdown": [
       "Energy Systems Modeler at Oil and Gas Job Search Ltd, Saudi Arabia, https://www.linkedin.com/jobs/view/3765078103 (Cosine similarity: 0.8158899985009389)"
      ],
      "text/plain": [
       "<IPython.core.display.Markdown object>"
      ]
     },
     "metadata": {},
     "output_type": "display_data"
    },
    {
     "data": {
      "text/markdown": [
       "___"
      ],
      "text/plain": [
       "<IPython.core.display.Markdown object>"
      ]
     },
     "metadata": {},
     "output_type": "display_data"
    },
    {
     "data": {
      "text/markdown": [
       "Energy Systems Modeler at Energy Jobline, Saudi Arabia, https://www.linkedin.com/jobs/view/3773719111 (Cosine similarity: 0.8155490354008554)"
      ],
      "text/plain": [
       "<IPython.core.display.Markdown object>"
      ]
     },
     "metadata": {},
     "output_type": "display_data"
    },
    {
     "data": {
      "text/markdown": [
       "___"
      ],
      "text/plain": [
       "<IPython.core.display.Markdown object>"
      ]
     },
     "metadata": {},
     "output_type": "display_data"
    },
    {
     "data": {
      "text/markdown": [
       "Energy Manager at Energy Sciences, Detroit Metropolitan Area, https://www.linkedin.com/jobs/view/3825515440 (Cosine similarity: 0.8109612808439912)"
      ],
      "text/plain": [
       "<IPython.core.display.Markdown object>"
      ]
     },
     "metadata": {},
     "output_type": "display_data"
    },
    {
     "data": {
      "text/markdown": [
       "___"
      ],
      "text/plain": [
       "<IPython.core.display.Markdown object>"
      ]
     },
     "metadata": {},
     "output_type": "display_data"
    },
    {
     "data": {
      "text/markdown": [
       "Energy Consultant at Able Power Management, TX, https://www.linkedin.com/jobs/view/3813094891 (Cosine similarity: 0.8024482966001687)"
      ],
      "text/plain": [
       "<IPython.core.display.Markdown object>"
      ]
     },
     "metadata": {},
     "output_type": "display_data"
    },
    {
     "data": {
      "text/markdown": [
       "___"
      ],
      "text/plain": [
       "<IPython.core.display.Markdown object>"
      ]
     },
     "metadata": {},
     "output_type": "display_data"
    }
   ],
   "source": [
    "indices, similarities, jobs = job_recommendation_from_file(\"We are looking for an entry-level junior energy market analyst with experience in Hydro power and monte carlo simulation. With masters degree in energy power systems and experience as a renewable energy sources engineer. Skilled in MATLAB.\", 'data/today_jobs_energy.csv', google_model, vectorizer, 300, 5, verbose=True)"
   ]
  },
  {
   "cell_type": "code",
   "execution_count": 18,
   "metadata": {},
   "outputs": [
    {
     "name": "stdout",
     "output_type": "stream",
     "text": [
      "Senior Energy Modeler Southern Lights Sweden https://www.linkedin.com/jobs/view/3784551535 0.8180115991092731\n",
      "Energy Systems Modeler Oil and Gas Job Search Ltd Saudi Arabia https://www.linkedin.com/jobs/view/3765078103 0.8158899985009389\n",
      "Energy Systems Modeler Energy Jobline Saudi Arabia https://www.linkedin.com/jobs/view/3773719111 0.8155490354008554\n",
      "Energy Manager Energy Sciences Detroit Metropolitan Area https://www.linkedin.com/jobs/view/3825515440 0.8109612808439912\n",
      "Energy Consultant Able Power Management TX https://www.linkedin.com/jobs/view/3813094891 0.8024482966001687\n",
      "Sourcing energy Analyst - Sustainability business Schneider Electric Spain https://www.linkedin.com/jobs/view/3810373686 0.8011112357732018\n",
      "Energy Analysts (PAL5/PAL6) International Energy Agency (IEA) France https://www.linkedin.com/jobs/view/3828129366 0.7994009749601834\n",
      "Energy Manager NYC Health + Hospitals NY https://www.linkedin.com/jobs/view/3803235680 0.792357800897258\n",
      "Energy Market Analyst Flower Sweden https://www.linkedin.com/jobs/view/3828062939 0.791100619564099\n",
      "Renewable Energy Analyst EnergySage MA https://www.linkedin.com/jobs/view/3808560938 0.7840711085016339\n",
      "Energy Management Analyst Greencrown Energy & Water PA https://www.linkedin.com/jobs/view/3799187950 0.782677532378884\n",
      "Renewable Energy Consultant Nova Solar VA https://www.linkedin.com/jobs/view/3806558831 0.7753604083629215\n",
      "Energy Modelling Consultant Mott MacDonald Spain https://www.linkedin.com/jobs/view/3711877353 0.7725351154420295\n",
      "Renewable Energy Product Manager (Utility PV) - Nordics Sungrow Europe Finland https://www.linkedin.com/jobs/view/3824779808 0.7613352068550212\n",
      "Macro Energy Analyst - Houston Energy Aspects TX https://www.linkedin.com/jobs/view/3817036081 0.7599761869339732\n",
      "Finnish Vattenfall Energy Advisor in Chania, Crete Kaderabotim.bg Greece https://www.linkedin.com/jobs/view/3828347305 0.7552587948275125\n",
      "Senior Energy Analyst X4 Technology TX https://www.linkedin.com/jobs/view/3812525563 0.7547713805527859\n",
      "Finnish Vattenfall Energy Advisor in Chania, Crete Munkahelyeink.hu Greece https://www.linkedin.com/jobs/view/3828224576 0.7529542579048252\n",
      "Finnish Vattenfall Energy Advisor in Chania, Crete Poudouleveis.gr Greece https://www.linkedin.com/jobs/view/3828226262 0.7515693779351296\n",
      "Senior Power and Energy Manager CRG Search United States https://www.linkedin.com/jobs/view/3819967014 0.7497546217042317\n"
     ]
    }
   ],
   "source": [
    "f = open(\"data/links_for_energy.txt\", \"w\")\n",
    "\n",
    "for job in similarities.argsort()[:][::-1]:\n",
    "    print(jobs.iloc[job]['job_title'], jobs.iloc[job]['company_name'], jobs.iloc[job]['job_location'], jobs.iloc[job]['job_url'], similarities[job])\n",
    "    f.write(jobs.iloc[job]['job_title'] + \", \" + jobs.iloc[job]['company_name'] +  \", \" + jobs.iloc[job]['job_location'] +  \", \" + jobs.iloc[job]['job_url'] + \" (Cosine similarity: \" + str(similarities[job]) + \")\" + \"\\n\")\n",
    "    if similarities[job] < 0.75:\n",
    "        break\n",
    "f.close()"
   ]
  },
  {
   "cell_type": "code",
   "execution_count": 19,
   "metadata": {},
   "outputs": [
    {
     "name": "stdout",
     "output_type": "stream",
     "text": [
      "entry level junior energy market analyst hydro power monte carlo simulation masters degree energy power systems renewable energy sources engineer matlab\n"
     ]
    },
    {
     "data": {
      "text/markdown": [
       "### Most similar jobs:"
      ],
      "text/plain": [
       "<IPython.core.display.Markdown object>"
      ]
     },
     "metadata": {},
     "output_type": "display_data"
    },
    {
     "data": {
      "text/markdown": [
       "Energy Market Modeller (Plexos) at Turner Lovell, Germany, https://www.linkedin.com/jobs/view/3811037342 (Cosine similarity: 0.8363361207517792)"
      ],
      "text/plain": [
       "<IPython.core.display.Markdown object>"
      ]
     },
     "metadata": {},
     "output_type": "display_data"
    },
    {
     "data": {
      "text/markdown": [
       "___"
      ],
      "text/plain": [
       "<IPython.core.display.Markdown object>"
      ]
     },
     "metadata": {},
     "output_type": "display_data"
    },
    {
     "data": {
      "text/markdown": [
       "Head Energy is looking for a skilled/experienced System Engineer. at Head Energy AS, Norway, https://www.linkedin.com/jobs/view/3820587503 (Cosine similarity: 0.8361680537094076)"
      ],
      "text/plain": [
       "<IPython.core.display.Markdown object>"
      ]
     },
     "metadata": {},
     "output_type": "display_data"
    },
    {
     "data": {
      "text/markdown": [
       "___"
      ],
      "text/plain": [
       "<IPython.core.display.Markdown object>"
      ]
     },
     "metadata": {},
     "output_type": "display_data"
    },
    {
     "data": {
      "text/markdown": [
       "Public Affairs Officer Transport & Energy at Virya Energy, Belgium, https://www.linkedin.com/jobs/view/3798655943 (Cosine similarity: 0.8350234011814053)"
      ],
      "text/plain": [
       "<IPython.core.display.Markdown object>"
      ]
     },
     "metadata": {},
     "output_type": "display_data"
    },
    {
     "data": {
      "text/markdown": [
       "___"
      ],
      "text/plain": [
       "<IPython.core.display.Markdown object>"
      ]
     },
     "metadata": {},
     "output_type": "display_data"
    },
    {
     "data": {
      "text/markdown": [
       "Energy Consultant at PT Renewables 🌳, United Kingdom, https://www.linkedin.com/jobs/view/3811010351 (Cosine similarity: 0.8251357946271937)"
      ],
      "text/plain": [
       "<IPython.core.display.Markdown object>"
      ]
     },
     "metadata": {},
     "output_type": "display_data"
    },
    {
     "data": {
      "text/markdown": [
       "___"
      ],
      "text/plain": [
       "<IPython.core.display.Markdown object>"
      ]
     },
     "metadata": {},
     "output_type": "display_data"
    },
    {
     "data": {
      "text/markdown": [
       "Sustainability Engineer - Relocate to Saudi Arabia, Permanent Expat Family Relocation Package at aramco, United Kingdom, https://www.linkedin.com/jobs/view/3796128399 (Cosine similarity: 0.821883175779792)"
      ],
      "text/plain": [
       "<IPython.core.display.Markdown object>"
      ]
     },
     "metadata": {},
     "output_type": "display_data"
    },
    {
     "data": {
      "text/markdown": [
       "___"
      ],
      "text/plain": [
       "<IPython.core.display.Markdown object>"
      ]
     },
     "metadata": {},
     "output_type": "display_data"
    }
   ],
   "source": [
    "indices, similarities = job_recommendation_w2v(\"We are looking for an entry-level junior energy market analyst with experience in Hydro power and monte carlo simulation. With masters degree in energy power systems and experience as a renewable energy sources engineer. Skilled in MATLAB.\", corpora_google, google_model, vectorizer, 300, 5, verbose=1)"
   ]
  },
  {
   "cell_type": "code",
   "execution_count": 20,
   "metadata": {},
   "outputs": [
    {
     "name": "stdout",
     "output_type": "stream",
     "text": [
      "Energy Market Modeller (Plexos) Turner Lovell Germany https://www.linkedin.com/jobs/view/3811037342 0.8363361207517792\n",
      "Head Energy is looking for a skilled/experienced System Engineer. Head Energy AS Norway https://www.linkedin.com/jobs/view/3820587503 0.8361680537094076\n",
      "Public Affairs Officer Transport & Energy Virya Energy Belgium https://www.linkedin.com/jobs/view/3798655943 0.8350234011814053\n",
      "Energy Consultant PT Renewables 🌳 United Kingdom https://www.linkedin.com/jobs/view/3811010351 0.8251357946271937\n",
      "Sustainability Engineer - Relocate to Saudi Arabia, Permanent Expat Family Relocation Package aramco United Kingdom https://www.linkedin.com/jobs/view/3796128399 0.821883175779792\n",
      "Energy Analyst Smart Energy LAB Portugal https://www.linkedin.com/jobs/view/3711178713 0.8208331558973876\n",
      "New Request - Anti-Abuse Data & Operations Analyst - Fraud Operations emagine Greater Stockholm Metropolitan Area https://www.linkedin.com/jobs/view/3819590336 0.819145695103594\n",
      "Energy Resource Analyst Elawan Energy Spain https://www.linkedin.com/jobs/view/3817085150 0.816685460443235\n",
      "Catastrophe Modeler (Hybrid #54519) DW Simpson Global Actuarial & Analytics Recruitment MA https://www.linkedin.com/jobs/view/3814178046 0.8163069234774529\n",
      "Energy Modeler Schnackel Engineers, Inc. NY https://www.linkedin.com/jobs/view/3818553477 0.8136166860671967\n",
      "Industrial Energy Efficiency Consultant EM3 United Kingdom https://www.linkedin.com/jobs/view/3814187541 0.8134519788477359\n",
      "Energy Manager Best.Energy United Kingdom https://www.linkedin.com/jobs/view/3817587917 0.8130859891849029\n",
      "Graduate Energy Consultant Aztrum United Kingdom https://www.linkedin.com/jobs/view/3815493018 0.8109667628761998\n",
      "Energy Data Analyst Siemens Energy Greater Barcelona Metropolitan Area https://www.linkedin.com/jobs/view/3817922651 0.8108374905041889\n",
      "Prop Modeler [Animation Department] THE THIRD FLOOR Inc. CA https://www.linkedin.com/jobs/view/3785710005 0.8029944241054601\n",
      "Venergi: Senior Electrical Engineer - Energy Transition (m/w/d) Ramboll Austria https://www.linkedin.com/jobs/view/3820520401 0.8007436032775332\n",
      "Energy Systems Modeler (Relocation to Saudi Arabia) aramco TX https://www.linkedin.com/jobs/view/3814011009 0.799797072232254\n",
      "Chief of Staff - Renewable Energy Software HYDROGRID Austria https://www.linkedin.com/jobs/view/3815511739 0.7995117655679658\n",
      "Energy Analyst Peaple Talent United Kingdom https://www.linkedin.com/jobs/view/3822758638 0.7995117655679658\n",
      "Entry-Level Engineer Over J Consulting CA https://www.linkedin.com/jobs/view/3772949928 0.7976709994000707\n",
      "Senior Project Manager- Energy Hub Novo Nordisk Denmark https://www.linkedin.com/jobs/view/3823006195 0.7969029912879388\n",
      "Proposal Manager Oil & Energy Tecnicas Reunidas Spain https://www.linkedin.com/jobs/view/3817353950 0.7964457389164792\n",
      "CQV & CSV Engineer (Commissioning and Computerized System) AL Engineering A/S Copenhagen Metropolitan Area https://www.linkedin.com/jobs/view/3762672129 0.7947003180261527\n",
      "(Sr.)Data Analyst BIGO Los Angeles Metropolitan Area https://www.linkedin.com/jobs/view/3813161862 0.7943518877284154\n",
      "Commercial Data Analyst ELPEDISON S.A. Greece https://www.linkedin.com/jobs/view/3803179377 0.7939830239396379\n",
      "Energy Markets Advisor and Market Modeller Akaysha Energy OR https://www.linkedin.com/jobs/view/3743818995 0.7927778099856122\n",
      "Venergi: Senior Civil Engineer - Energy Transition (m/w/d) Ramboll Austria https://www.linkedin.com/jobs/view/3820521341 0.7925776425483444\n",
      "Energy Modeller Expert (m/f/d) GOPA Consulting Group Germany https://www.linkedin.com/jobs/view/3784023059 0.7917907628893266\n",
      "Modeler Paritas Recruitment United Kingdom https://www.linkedin.com/jobs/view/3812176676 0.7912374346005828\n",
      "Lead Analyst, Long-term Energy Systems Fortum Finland https://www.linkedin.com/jobs/view/3822105157 0.7896291236634002\n",
      "R&D Senior Engineer (Power Energy Storage) - Hitachi Energy SPERTON - Where Great People Meet Norway https://www.linkedin.com/jobs/view/3815205311 0.7879007523256838\n",
      "Senior Energy Modeller/Technologist The Green Recruitment Company United Kingdom https://www.linkedin.com/jobs/view/3819990940 0.786483017137091\n",
      "Primary Engineer (m/f/d) GE Vernova Germany https://www.linkedin.com/jobs/view/3826634405 0.7853940882256096\n",
      "Biogeochemistry Systems Modeller - Remote Europe Agreena Germany https://www.linkedin.com/jobs/view/3806419117 0.7850080896613341\n",
      "AI Engineer - Internship - Remote The Hub Denmark https://www.linkedin.com/jobs/view/3801455852 0.78374965454117\n",
      "Energy Portfolio Manager Tesla Netherlands https://www.linkedin.com/jobs/view/3734596829 0.7825001305534227\n",
      "Energy Consultant Assegai Recruitment South Africa https://www.linkedin.com/jobs/view/3817583962 0.7821695746426465\n",
      "Senior Energy Modeller Energy Jobline United Kingdom https://www.linkedin.com/jobs/view/3791623362 0.7817454315333975\n",
      "Venergi: Senior Mechanical Engineer - Energy Transition (m/w/d) Ramboll Austria https://www.linkedin.com/jobs/view/3820515728 0.7813558334154905\n",
      "What if we told you this wasn't a job... AltGen United Kingdom https://www.linkedin.com/jobs/view/3804627600 0.780133372962224\n",
      "Energy Market Analyst Energy Jobline United Kingdom https://www.linkedin.com/jobs/view/3772917298 0.7800322868433258\n",
      "Graduate Energy Consultant ecocareers United Kingdom https://www.linkedin.com/jobs/view/3821590122 0.7799803222386354\n",
      "Data Support Engineer - REMOTE (Retail Background) TekIntegral United States https://www.linkedin.com/jobs/view/3826484287 0.7798494094491021\n",
      "FPGA Engineering Specialist Music Tribe Sweden https://www.linkedin.com/jobs/view/3819404610 0.7789252777347483\n",
      "Commercial Power Market Analyst Chevron TX https://www.linkedin.com/jobs/view/3823032513 0.7785249374624154\n",
      "Energy Analyst - Grid Stability & Operability GHD United Kingdom https://www.linkedin.com/jobs/view/3730863893 0.778441274353848\n",
      "Engineer (f/m/d) for Thermodynamic and Rotordynamic Design of Steam Turbine Machinery Core Siemens Energy Germany https://www.linkedin.com/jobs/view/3744019831 0.7782032819823363\n",
      "PV Engineer Worldwide Recruitment Energy Spain https://www.linkedin.com/jobs/view/3826382894 0.7767816152419178\n",
      "Experienced Energy Markets and Strategy Consultant DNV Norway https://www.linkedin.com/jobs/view/3803168288 0.7755324530602214\n",
      "Energy Consultant PowerPulse Belgium https://www.linkedin.com/jobs/view/3759358353 0.775410118042937\n",
      "Senior Energy Markets Modeler Pattern Energy Group IL https://www.linkedin.com/jobs/view/3780007939 0.77416035735916\n",
      "Energy Analyst SUEZ United Kingdom https://www.linkedin.com/jobs/view/3809446879 0.7738482421013158\n",
      "Go-To-Market Analyst (Swedish-speaking, part-time) The Hub Denmark https://www.linkedin.com/jobs/view/3792744325 0.7717270371334384\n",
      "Java Developer - Green Energy Sector Nigel Frank International Norway https://www.linkedin.com/jobs/view/3775341957 0.7713129530883925\n",
      "Paid Internship – Consumer & Market Knowledge: Analytics (m/f/x) Procter & Gamble Switzerland https://www.linkedin.com/jobs/view/3734898783 0.770519655389255\n",
      "PLM Engineer Jaisan IT Solutions Ltd Germany https://www.linkedin.com/jobs/view/3821025748 0.7690830968731883\n",
      "Power Purchase Agreement (PPA) Modeler Leap29 France https://www.linkedin.com/jobs/view/3750172473 0.7668897465000619\n",
      "Category Manager - CAPEX, MRO & Energy Barry Callebaut Group Switzerland https://www.linkedin.com/jobs/view/3771066561 0.7665287899940055\n",
      "Bioenergy Engineer The Green Recruitment Company United Kingdom https://www.linkedin.com/jobs/view/3811287461 0.7664047417239876\n",
      "Business Analyst CoolPeople Austria https://www.linkedin.com/jobs/view/3790793425 0.7663890799002122\n",
      "Energy Efficiency Consultant Schneider Electric Netherlands https://www.linkedin.com/jobs/view/3813956342 0.7663399179488716\n",
      "Data Analyst O50C United Kingdom https://www.linkedin.com/jobs/view/3811921234 0.7651206517552509\n",
      "Senior Energy Consultant Amida Consulting Solutions France https://www.linkedin.com/jobs/view/3811625410 0.7648309701661737\n",
      "Graduate Energy Consultant Aztrum United Kingdom https://www.linkedin.com/jobs/view/3815488456 0.7646156084894776\n",
      "Business Analyst Squaredev Greece https://www.linkedin.com/jobs/view/3826075605 0.7637360719442304\n",
      "Manager - Energy Storage Pexapark Switzerland https://www.linkedin.com/jobs/view/3817120197 0.7609685505698469\n",
      "Energy Portfolio Manager The Green Recruitment Company Germany https://www.linkedin.com/jobs/view/3814707608 0.7606602532274038\n",
      "Senior Associate/ Energy Law James Woodman Athens Metropolitan Area https://www.linkedin.com/jobs/view/3821978161 0.7598425547077118\n",
      "Energy Data Analyst enexgroup Greece https://www.linkedin.com/jobs/view/3814275977 0.7584118676990352\n",
      "Energy Analyst SOCOTEC NY https://www.linkedin.com/jobs/view/3776220569 0.758256946897749\n",
      "E-mobility Engineer Knightec Sweden https://www.linkedin.com/jobs/view/3800550883 0.7581169309861661\n",
      "Energy Resources Specialist Poudre Valley REA CO https://www.linkedin.com/jobs/view/3824167665 0.7574321144942623\n",
      "Market intelligence analyst Bridgestone EMEA Belgium https://www.linkedin.com/jobs/view/3825016881 0.7550273895721197\n",
      "Lead E&P Market Analyst Rystad Energy United Kingdom https://www.linkedin.com/jobs/view/3787189558 0.7540585093247013\n",
      "Senior Project Manager - Energy from Waste and Carbon Capture Ramboll Denmark https://www.linkedin.com/jobs/view/3772010950 0.753635728186473\n",
      "Market Research Analyst (Full Remote within Spain) Leadtech Group Spain https://www.linkedin.com/jobs/view/3789743891 0.7533697550169816\n",
      "Project Lead Engineer for Hitachi Energy Hays Copenhagen Metropolitan Area https://www.linkedin.com/jobs/view/3820355992 0.7524371776415822\n",
      "Building Energy and Power Flow Modeler National Renewable Energy Laboratory CO https://www.linkedin.com/jobs/view/3663874378 0.752393793467433\n",
      "Engineer Rosewood Munich Germany https://www.linkedin.com/jobs/view/3762660434 0.7516905277380912\n",
      "Safety Data Analyst (80-100%) skyguide Switzerland https://www.linkedin.com/jobs/view/3823390065 0.75054096279857\n",
      "Multi Skilled Engineer TipTopJob United Kingdom https://www.linkedin.com/jobs/view/3825798893 0.7504857252069759\n",
      "Senior Renewable Energy Analyst Climate17 | B Corp™ United Kingdom https://www.linkedin.com/jobs/view/3820678044 0.7502811854275414\n",
      "Energy Consultant Amida Consulting Solutions Germany https://www.linkedin.com/jobs/view/3801268935 0.7492068245062047\n"
     ]
    }
   ],
   "source": [
    "f = open(\"data/links_for_energy.txt\", \"w\")\n",
    "\n",
    "for job in similarities.argsort()[:][::-1]:\n",
    "    print(dataset.iloc[job]['job_title'], dataset.iloc[job]['company_name'], dataset.iloc[job]['job_location'], dataset.iloc[job]['job_url'], similarities[job])\n",
    "    f.write(dataset.iloc[job]['job_title'] + \", \" + dataset.iloc[job]['company_name'] +  \", \" + dataset.iloc[job]['job_location'] +  \", \" + dataset.iloc[job]['job_url'] + \" (Cosine similarity: \" + str(similarities[job]) + \")\" + \"\\n\")\n",
    "    if similarities[job] < 0.75:\n",
    "        break"
   ]
  }
 ],
 "metadata": {
  "kernelspec": {
   "display_name": "Python 3",
   "language": "python",
   "name": "python3"
  },
  "language_info": {
   "codemirror_mode": {
    "name": "ipython",
    "version": 3
   },
   "file_extension": ".py",
   "mimetype": "text/x-python",
   "name": "python",
   "nbconvert_exporter": "python",
   "pygments_lexer": "ipython3",
   "version": "3.11.7"
  }
 },
 "nbformat": 4,
 "nbformat_minor": 2
}
